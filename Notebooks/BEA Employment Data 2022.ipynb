{
 "cells": [
  {
   "cell_type": "code",
   "execution_count": 3,
   "id": "59eb163e",
   "metadata": {},
   "outputs": [],
   "source": [
    "import pandas as pd\n",
    "import numpy as np\n",
    "import matplotlib.pyplot as plt\n",
    "from functools import reduce\n",
    "pd.set_option('display.max_columns', None)\n",
    "pd.set_option('display.max_rows', None)\n",
    "pd.set_option('display.width', 150)\n",
    "from warnings import simplefilter\n",
    "simplefilter(action=\"ignore\", category=pd.errors.PerformanceWarning)\n",
    "import sys\n",
    "sys.path.append(\"../../Functions and Dictionaries\") # Adds higher directory to python modules path\n",
    "import geodict\n",
    "namestocommon = geodict.namestocommon\n",
    "geotogeoid = geodict.geotogeoid\n",
    "tofullcensus = geodict.tofullcensus\n",
    "import sqlite3 as sq\n",
    "#functions\n",
    "def percent(x, y):\n",
    "        try:\n",
    "            return ((x/y)*100)\n",
    "        except ZeroDivisionError:\n",
    "            return 0"
   ]
  },
  {
   "cell_type": "markdown",
   "id": "e183afd8",
   "metadata": {},
   "source": [
    "Download CAEMP25N total employment (# of jobs) for all counties in TN and TN state total"
   ]
  },
  {
   "cell_type": "code",
   "execution_count": 4,
   "id": "8680c874",
   "metadata": {},
   "outputs": [],
   "source": [
    "data = pd.read_csv('../Data Downloads/BEA_2017_2022Employment.csv', dtype = str)"
   ]
  },
  {
   "cell_type": "code",
   "execution_count": 5,
   "id": "86ccf295",
   "metadata": {},
   "outputs": [
    {
     "data": {
      "text/html": [
       "<div>\n",
       "<style scoped>\n",
       "    .dataframe tbody tr th:only-of-type {\n",
       "        vertical-align: middle;\n",
       "    }\n",
       "\n",
       "    .dataframe tbody tr th {\n",
       "        vertical-align: top;\n",
       "    }\n",
       "\n",
       "    .dataframe thead th {\n",
       "        text-align: right;\n",
       "    }\n",
       "</style>\n",
       "<table border=\"1\" class=\"dataframe\">\n",
       "  <thead>\n",
       "    <tr style=\"text-align: right;\">\n",
       "      <th></th>\n",
       "      <th>GeoFips</th>\n",
       "      <th>GeoName</th>\n",
       "      <th>LineCode</th>\n",
       "      <th>Category</th>\n",
       "      <th>Sub Category</th>\n",
       "      <th>Description</th>\n",
       "      <th>2017</th>\n",
       "      <th>2018</th>\n",
       "      <th>2019</th>\n",
       "      <th>2020</th>\n",
       "      <th>2021</th>\n",
       "      <th>2022</th>\n",
       "    </tr>\n",
       "  </thead>\n",
       "  <tbody>\n",
       "    <tr>\n",
       "      <th>0</th>\n",
       "      <td>47000</td>\n",
       "      <td>Tennessee</td>\n",
       "      <td>NaN</td>\n",
       "      <td>All</td>\n",
       "      <td>All</td>\n",
       "      <td>Employment by place of work</td>\n",
       "      <td>NaN</td>\n",
       "      <td>NaN</td>\n",
       "      <td>NaN</td>\n",
       "      <td>NaN</td>\n",
       "      <td>NaN</td>\n",
       "      <td>NaN</td>\n",
       "    </tr>\n",
       "    <tr>\n",
       "      <th>1</th>\n",
       "      <td>47000</td>\n",
       "      <td>Tennessee</td>\n",
       "      <td>10</td>\n",
       "      <td>Total</td>\n",
       "      <td>Total</td>\n",
       "      <td>Total employment (number of jobs)</td>\n",
       "      <td>4033011</td>\n",
       "      <td>4120203</td>\n",
       "      <td>4169016</td>\n",
       "      <td>4121045</td>\n",
       "      <td>4301472</td>\n",
       "      <td>4506394</td>\n",
       "    </tr>\n",
       "    <tr>\n",
       "      <th>2</th>\n",
       "      <td>47000</td>\n",
       "      <td>Tennessee</td>\n",
       "      <td>NaN</td>\n",
       "      <td>By Type</td>\n",
       "      <td>By Type</td>\n",
       "      <td>By type</td>\n",
       "      <td>NaN</td>\n",
       "      <td>NaN</td>\n",
       "      <td>NaN</td>\n",
       "      <td>NaN</td>\n",
       "      <td>NaN</td>\n",
       "      <td>NaN</td>\n",
       "    </tr>\n",
       "    <tr>\n",
       "      <th>3</th>\n",
       "      <td>47000</td>\n",
       "      <td>Tennessee</td>\n",
       "      <td>20</td>\n",
       "      <td>By Type</td>\n",
       "      <td>By Type, Wage and salary</td>\n",
       "      <td>Wage and salary employment</td>\n",
       "      <td>3083963</td>\n",
       "      <td>3133993</td>\n",
       "      <td>3195762</td>\n",
       "      <td>3074162</td>\n",
       "      <td>3170189</td>\n",
       "      <td>3305841</td>\n",
       "    </tr>\n",
       "    <tr>\n",
       "      <th>4</th>\n",
       "      <td>47000</td>\n",
       "      <td>Tennessee</td>\n",
       "      <td>40</td>\n",
       "      <td>By Type</td>\n",
       "      <td>By Type, Proprietors</td>\n",
       "      <td>Proprietors employment</td>\n",
       "      <td>949048</td>\n",
       "      <td>986210</td>\n",
       "      <td>973254</td>\n",
       "      <td>1046883</td>\n",
       "      <td>1131283</td>\n",
       "      <td>1200553</td>\n",
       "    </tr>\n",
       "  </tbody>\n",
       "</table>\n",
       "</div>"
      ],
      "text/plain": [
       "  GeoFips    GeoName LineCode Category              Sub Category                        Description     2017     2018     2019     2020     2021  \\\n",
       "0   47000  Tennessee      NaN      All                       All        Employment by place of work      NaN      NaN      NaN      NaN      NaN   \n",
       "1   47000  Tennessee       10    Total                     Total  Total employment (number of jobs)  4033011  4120203  4169016  4121045  4301472   \n",
       "2   47000  Tennessee      NaN  By Type                   By Type                            By type      NaN      NaN      NaN      NaN      NaN   \n",
       "3   47000  Tennessee       20  By Type  By Type, Wage and salary         Wage and salary employment  3083963  3133993  3195762  3074162  3170189   \n",
       "4   47000  Tennessee       40  By Type      By Type, Proprietors             Proprietors employment   949048   986210   973254  1046883  1131283   \n",
       "\n",
       "      2022  \n",
       "0      NaN  \n",
       "1  4506394  \n",
       "2      NaN  \n",
       "3  3305841  \n",
       "4  1200553  "
      ]
     },
     "execution_count": 5,
     "metadata": {},
     "output_type": "execute_result"
    }
   ],
   "source": [
    "data.head()"
   ]
  },
  {
   "cell_type": "code",
   "execution_count": null,
   "id": "51d53844",
   "metadata": {},
   "outputs": [],
   "source": [
    "data = data.loc[(data['Description'] != 'Employment by place of work')&(data['Description'] != 'By type')&(data['Description'] != 'By industry')]"
   ]
  },
  {
   "cell_type": "code",
   "execution_count": null,
   "id": "97189062",
   "metadata": {},
   "outputs": [],
   "source": [
    "data.head()"
   ]
  },
  {
   "cell_type": "code",
   "execution_count": null,
   "id": "77065cc2",
   "metadata": {},
   "outputs": [],
   "source": [
    "data['Category'] = data['Category'].str.strip()\n",
    "data['Sub Category'] = data['Sub Category'].str.strip()\n",
    "data['Description'] = data['Description'].str.strip()"
   ]
  },
  {
   "cell_type": "code",
   "execution_count": null,
   "id": "d6337201",
   "metadata": {},
   "outputs": [],
   "source": [
    "data = data.replace({'(D)': 666666666})\n",
    "cols = ['2017', '2018', '2019', '2020', '2021', '2022']\n",
    "data[cols] = data[cols].astype(float)\n",
    "data = data.rename(columns = {'GeoName': 'NAME'})\n",
    "data['ID'] = data['Category'] + \"|\" + data['Sub Category'] + \"|\" + data['Description']\n",
    "data = data.drop(columns = ['GeoFips', 'LineCode', 'Category', 'Sub Category', 'Description'])"
   ]
  },
  {
   "cell_type": "code",
   "execution_count": null,
   "id": "c5de0bf0",
   "metadata": {},
   "outputs": [],
   "source": [
    "ids = list(data['ID'].unique())\n",
    "geos = list(data['NAME'].unique())\n",
    "data = data.set_index(['NAME', 'ID'])"
   ]
  },
  {
   "cell_type": "code",
   "execution_count": null,
   "id": "e0fe81f2",
   "metadata": {},
   "outputs": [],
   "source": [
    "data = data.transpose()"
   ]
  },
  {
   "cell_type": "code",
   "execution_count": null,
   "id": "902e73bc",
   "metadata": {},
   "outputs": [],
   "source": [
    "#aggregate by double column-headers\n",
    "for thing in ids:\n",
    "    #MPO\n",
    "    thelist = [data[('Davidson, TN', '{}'.format(thing))],data[('Maury, TN', '{}'.format(thing))],\n",
    "               data[('Robertson, TN', '{}'.format(thing))],data[('Rutherford, TN', '{}'.format(thing))], \n",
    "               data[('Sumner, TN', '{}'.format(thing))], data[('Williamson, TN', '{}'.format(thing))], \n",
    "               data[('Wilson, TN', '{}'.format(thing))]]\n",
    "    data[('MPO', '{}'.format(thing))] = sum(thelist)\n",
    "    #GNRC\n",
    "    thelist = [data[('Cheatham, TN', '{}'.format(thing))], data[('Davidson, TN', '{}'.format(thing))], \n",
    "               data[('Dickson, TN', '{}'.format(thing))], data[('Houston, TN', '{}'.format(thing))],\n",
    "               data[('Humphreys, TN', '{}'.format(thing))], data[('Montgomery, TN', '{}'.format(thing))],\n",
    "               data[('Robertson, TN', '{}'.format(thing))],data[('Rutherford, TN', '{}'.format(thing))], \n",
    "               data[('Sumner, TN', '{}'.format(thing))], data[('Stewart, TN', '{}'.format(thing))], \n",
    "               data[('Trousdale, TN', '{}'.format(thing))],\n",
    "               data[('Williamson, TN', '{}'.format(thing))], data[('Wilson, TN', '{}'.format(thing))]]\n",
    "    data[('GNRC', '{}'.format(thing))] = sum(thelist)\n",
    "    #GNRC Region\n",
    "    thelist = [data[('Cheatham, TN', '{}'.format(thing))], data[('Davidson, TN', '{}'.format(thing))], \n",
    "               data[('Dickson, TN', '{}'.format(thing))], data[('Houston, TN', '{}'.format(thing))],\n",
    "               data[('Humphreys, TN', '{}'.format(thing))], data[('Montgomery, TN', '{}'.format(thing))],\n",
    "               data[('Robertson, TN', '{}'.format(thing))],data[('Rutherford, TN', '{}'.format(thing))], \n",
    "               data[('Sumner, TN', '{}'.format(thing))], data[('Stewart, TN', '{}'.format(thing))], \n",
    "               data[('Trousdale, TN', '{}'.format(thing))], data[('Williamson, TN', '{}'.format(thing))], \n",
    "               data[('Wilson, TN', '{}'.format(thing))], data[('Maury, TN', '{}'.format(thing))]]\n",
    "    data[('GNRC Region', '{}'.format(thing))] = sum(thelist)"
   ]
  },
  {
   "cell_type": "code",
   "execution_count": null,
   "id": "07f52663",
   "metadata": {},
   "outputs": [],
   "source": [
    "geos.append('GNRC')\n",
    "geos.append('GNRC Region')\n",
    "geos.append('MPO')"
   ]
  },
  {
   "cell_type": "code",
   "execution_count": null,
   "id": "f5fd7de7",
   "metadata": {},
   "outputs": [],
   "source": [
    "#calculate percentages\n",
    "for geo in geos:\n",
    "    data[('{}'.format(geo), 'By Type|By Type, Wage and salary|Wage and salary employment %')] = percent(data[('{}'.format(geo), 'By Type|By Type, Wage and salary|Wage and salary employment')], \n",
    "                                                                                                       data[('{}'.format(geo), 'Total|Total|Total employment (number of jobs)')])\n",
    "    data[('{}'.format(geo), 'By Type|By Type, Proprietors|Proprietors employment %')] = percent(data[('{}'.format(geo), 'By Type|By Type, Proprietors|Proprietors employment')], \n",
    "                                                                                                       data[('{}'.format(geo), 'Total|Total|Total employment (number of jobs)')])\n",
    "    data[('{}'.format(geo), 'By Type|By Type, Proprietors Sub|Farm proprietors employment %')] = percent(data[('{}'.format(geo), 'By Type|By Type, Proprietors Sub|Farm proprietors employment')], \n",
    "                                                                                                       data[('{}'.format(geo), 'Total|Total|Total employment (number of jobs)')])\n",
    "    data[('{}'.format(geo), 'By Type|By Type, Proprietors Sub|Nonfarm proprietors employment 2 %')] = percent(data[('{}'.format(geo), 'By Type|By Type, Proprietors Sub|Nonfarm proprietors employment 2')], \n",
    "                                                                                                       data[('{}'.format(geo), 'Total|Total|Total employment (number of jobs)')])\n",
    "    data[('{}'.format(geo), 'By industry|By industry, Farm|Farm employment %')] = percent(data[('{}'.format(geo), 'By industry|By industry, Farm|Farm employment')], \n",
    "                                                                                                       data[('{}'.format(geo), 'Total|Total|Total employment (number of jobs)')])\n",
    "    data[('{}'.format(geo), 'By industry|By industry, Nonfarm|Nonfarm employment %')] = percent(data[('{}'.format(geo), 'By industry|By industry, Nonfarm|Nonfarm employment')], \n",
    "                                                                                                       data[('{}'.format(geo), 'Total|Total|Total employment (number of jobs)')])\n",
    "    data[('{}'.format(geo), 'By industry|By industry, Nonfarm Sub|Private nonfarm employment %')] = percent(data[('{}'.format(geo), 'By industry|By industry, Nonfarm Sub|Private nonfarm employment')], \n",
    "                                                                                                       data[('{}'.format(geo), 'Total|Total|Total employment (number of jobs)')])\n",
    "    data[('{}'.format(geo), 'By industry|By industry, Nonfarm Sub|Forestry, fishing, and related activities %')] = percent(data[('{}'.format(geo), 'By industry|By industry, Nonfarm Sub|Forestry, fishing, and related activities')], \n",
    "                                                                                                       data[('{}'.format(geo), 'Total|Total|Total employment (number of jobs)')])\n",
    "    data[('{}'.format(geo), 'By industry|By industry, Nonfarm Sub|Mining, quarrying, and oil and gas extraction %')] = percent(data[('{}'.format(geo), 'By industry|By industry, Nonfarm Sub|Mining, quarrying, and oil and gas extraction')], \n",
    "                                                                                                       data[('{}'.format(geo), 'Total|Total|Total employment (number of jobs)')])\n",
    "    data[('{}'.format(geo), 'By industry|By industry, Nonfarm Sub|Utilities %')] = percent(data[('{}'.format(geo), 'By industry|By industry, Nonfarm Sub|Utilities')], \n",
    "                                                                                                       data[('{}'.format(geo), 'Total|Total|Total employment (number of jobs)')])\n",
    "    data[('{}'.format(geo), 'By industry|By industry, Nonfarm Sub|Construction %')] = percent(data[('{}'.format(geo), 'By industry|By industry, Nonfarm Sub|Construction')], \n",
    "                                                                                                       data[('{}'.format(geo), 'Total|Total|Total employment (number of jobs)')])\n",
    "    data[('{}'.format(geo), 'By industry|By industry, Nonfarm Sub|Manufacturing %')] = percent(data[('{}'.format(geo), 'By industry|By industry, Nonfarm Sub|Manufacturing')], \n",
    "                                                                                                       data[('{}'.format(geo), 'Total|Total|Total employment (number of jobs)')])\n",
    "    data[('{}'.format(geo), 'By industry|By industry, Nonfarm Sub|Wholesale trade %')] = percent(data[('{}'.format(geo), 'By industry|By industry, Nonfarm Sub|Wholesale trade')], \n",
    "                                                                                                       data[('{}'.format(geo), 'Total|Total|Total employment (number of jobs)')])\n",
    "    data[('{}'.format(geo), 'By industry|By industry, Nonfarm Sub|Retail trade %')] = percent(data[('{}'.format(geo), 'By industry|By industry, Nonfarm Sub|Retail trade')], \n",
    "                                                                                                       data[('{}'.format(geo), 'Total|Total|Total employment (number of jobs)')])\n",
    "    data[('{}'.format(geo), 'By industry|By industry, Nonfarm Sub|Transportation and warehousing %')] = percent(data[('{}'.format(geo), 'By industry|By industry, Nonfarm Sub|Transportation and warehousing')], \n",
    "                                                                                                       data[('{}'.format(geo), 'Total|Total|Total employment (number of jobs)')])\n",
    "    data[('{}'.format(geo), 'By industry|By industry, Nonfarm Sub|Information %')] = percent(data[('{}'.format(geo), 'By industry|By industry, Nonfarm Sub|Information')], \n",
    "                                                                                                       data[('{}'.format(geo), 'Total|Total|Total employment (number of jobs)')])\n",
    "    data[('{}'.format(geo), 'By industry|By industry, Nonfarm Sub|Finance and insurance %')] = percent(data[('{}'.format(geo), 'By industry|By industry, Nonfarm Sub|Finance and insurance')], \n",
    "                                                                                                       data[('{}'.format(geo), 'Total|Total|Total employment (number of jobs)')])\n",
    "    data[('{}'.format(geo), 'By industry|By industry, Nonfarm Sub|Real estate and rental and leasing %')] = percent(data[('{}'.format(geo), 'By industry|By industry, Nonfarm Sub|Real estate and rental and leasing')], \n",
    "                                                                                                       data[('{}'.format(geo), 'Total|Total|Total employment (number of jobs)')])\n",
    "    data[('{}'.format(geo), 'By industry|By industry, Nonfarm Sub|Professional, scientific, and technical services %')] = percent(data[('{}'.format(geo), 'By industry|By industry, Nonfarm Sub|Professional, scientific, and technical services')], \n",
    "                                                                                                       data[('{}'.format(geo), 'Total|Total|Total employment (number of jobs)')])\n",
    "    data[('{}'.format(geo), 'By industry|By industry, Nonfarm Sub|Administrative and support and waste management and remediation services %')] = percent(data[('{}'.format(geo), 'By industry|By industry, Nonfarm Sub|Administrative and support and waste management and remediation services')], \n",
    "                                                                                                       data[('{}'.format(geo), 'Total|Total|Total employment (number of jobs)')])\n",
    "    data[('{}'.format(geo), 'By industry|By industry, Nonfarm Sub|Educational services %')] = percent(data[('{}'.format(geo), 'By industry|By industry, Nonfarm Sub|Educational services')], \n",
    "                                                                                                       data[('{}'.format(geo), 'Total|Total|Total employment (number of jobs)')])\n",
    "    data[('{}'.format(geo), 'By industry|By industry, Nonfarm Sub|Health care and social assistance %')] = percent(data[('{}'.format(geo), 'By industry|By industry, Nonfarm Sub|Health care and social assistance')], \n",
    "                                                                                                       data[('{}'.format(geo), 'Total|Total|Total employment (number of jobs)')])\n",
    "    data[('{}'.format(geo), 'By industry|By industry, Nonfarm Sub|Arts, entertainment, and recreation %')] = percent(data[('{}'.format(geo), 'By industry|By industry, Nonfarm Sub|Arts, entertainment, and recreation')], \n",
    "                                                                                                       data[('{}'.format(geo), 'Total|Total|Total employment (number of jobs)')])\n",
    "    data[('{}'.format(geo), 'By industry|By industry, Nonfarm Sub|Accommodation and food services %')] = percent(data[('{}'.format(geo), 'By industry|By industry, Nonfarm Sub|Accommodation and food services')], \n",
    "                                                                                                       data[('{}'.format(geo), 'Total|Total|Total employment (number of jobs)')])\n",
    "    data[('{}'.format(geo), 'By industry|By industry, Nonfarm Sub|Other services (except government and government enterprises) %')] = percent(data[('{}'.format(geo), 'By industry|By industry, Nonfarm Sub|Other services (except government and government enterprises)')], \n",
    "                                                                                                       data[('{}'.format(geo), 'Total|Total|Total employment (number of jobs)')])\n",
    "    data[('{}'.format(geo), 'By industry|By industry, Government|Government and government enterprises %')] = percent(data[('{}'.format(geo), 'By industry|By industry, Government|Government and government enterprises')], \n",
    "                                                                                                       data[('{}'.format(geo), 'Total|Total|Total employment (number of jobs)')])\n",
    "    data[('{}'.format(geo), 'By industry|By industry, Government Sub|Federal civilian %')] = percent(data[('{}'.format(geo), 'By industry|By industry, Government Sub|Federal civilian')], \n",
    "                                                                                                       data[('{}'.format(geo), 'Total|Total|Total employment (number of jobs)')])\n",
    "    data[('{}'.format(geo), 'By industry|By industry, Government Sub|Military %')] = percent(data[('{}'.format(geo), 'By industry|By industry, Government Sub|Military')], \n",
    "                                                                                                       data[('{}'.format(geo), 'Total|Total|Total employment (number of jobs)')])\n",
    "    data[('{}'.format(geo), 'By industry|By industry, Government Sub|State and local %')] = percent(data[('{}'.format(geo), 'By industry|By industry, Government Sub|State and local')], \n",
    "                                                                                                       data[('{}'.format(geo), 'Total|Total|Total employment (number of jobs)')])\n",
    "    data[('{}'.format(geo), 'By industry|By industry, Government Sub|State government %')] = percent(data[('{}'.format(geo), 'By industry|By industry, Government Sub|State government')], \n",
    "                                                                                                       data[('{}'.format(geo), 'Total|Total|Total employment (number of jobs)')])\n",
    "    data[('{}'.format(geo), 'By industry|By industry, Government Sub|Local government %')] = percent(data[('{}'.format(geo), 'By industry|By industry, Government Sub|Local government')], \n",
    "                                                                                                       data[('{}'.format(geo), 'Total|Total|Total employment (number of jobs)')])"
   ]
  },
  {
   "cell_type": "code",
   "execution_count": null,
   "id": "b7f72bd0",
   "metadata": {},
   "outputs": [],
   "source": [
    "data = data.rename(columns = {\n",
    "    'Cheatham, TN': 'Cheatham County, Tennessee', \n",
    "    'Davidson, TN': 'Davidson County, Tennessee',\n",
    "    'Dickson, TN': 'Dickson County, Tennessee',\n",
    "    'Houston, TN': 'Houston County, Tennessee',\n",
    "    'Humphreys, TN': 'Humphreys County, Tennessee',\n",
    "    'Maury, TN': 'Maury County, Tennessee',\n",
    "    'Montgomery, TN': 'Montgomery County, Tennessee',\n",
    "    'Robertson, TN': 'Robertson County, Tennessee',\n",
    "    'Rutherford, TN': 'Rutherford County, Tennessee',\n",
    "    'Stewart, TN': 'Stewart County, Tennessee',\n",
    "    'Sumner, TN': 'Sumner County, Tennessee',\n",
    "    'Williamson, TN': 'Williamson County, Tennessee',\n",
    "    'Wilson, TN': 'Wilson County, Tennessee',\n",
    "    'Trousdale, TN': 'Trousdale County, Tennessee'\n",
    "})"
   ]
  },
  {
   "cell_type": "code",
   "execution_count": null,
   "id": "92a855df",
   "metadata": {},
   "outputs": [],
   "source": [
    "data = data.transpose().reset_index(drop = False)\n",
    "data.head()"
   ]
  },
  {
   "cell_type": "code",
   "execution_count": null,
   "id": "ab745866",
   "metadata": {},
   "outputs": [],
   "source": []
  },
  {
   "cell_type": "code",
   "execution_count": null,
   "id": "97d608b2",
   "metadata": {},
   "outputs": [],
   "source": []
  },
  {
   "cell_type": "code",
   "execution_count": null,
   "id": "f72557f7",
   "metadata": {},
   "outputs": [],
   "source": [
    "boop = data['ID'].str.split(pat = \"|\", expand = True)\n",
    "data['Category'] = boop[0]\n",
    "data['Sub Category'] = boop[1]\n",
    "data['Description'] = boop[2]\n",
    "data = data.drop(columns = 'ID')"
   ]
  },
  {
   "cell_type": "code",
   "execution_count": null,
   "id": "b91c83cf",
   "metadata": {},
   "outputs": [],
   "source": [
    "data['Category'] = data['Category'].str.strip()\n",
    "data['Sub Category'] = data['Sub Category'].str.strip()\n",
    "data['Description'] = data['Description'].str.strip()"
   ]
  },
  {
   "cell_type": "code",
   "execution_count": null,
   "id": "4056969e",
   "metadata": {},
   "outputs": [],
   "source": [
    "data.tail()"
   ]
  },
  {
   "cell_type": "code",
   "execution_count": null,
   "id": "a64d55f7",
   "metadata": {},
   "outputs": [],
   "source": []
  },
  {
   "cell_type": "code",
   "execution_count": null,
   "id": "4f64c9aa",
   "metadata": {},
   "outputs": [],
   "source": [
    "#export to the SQLite database\n",
    "conn = sq.connect('../Outputs/BEA.db')\n",
    "data.to_sql('2017_2022Employment', conn, if_exists = 'replace', index = False)"
   ]
  },
  {
   "cell_type": "code",
   "execution_count": null,
   "id": "2643b858",
   "metadata": {},
   "outputs": [],
   "source": []
  }
 ],
 "metadata": {
  "kernelspec": {
   "display_name": "Python 3 (ipykernel)",
   "language": "python",
   "name": "python3"
  },
  "language_info": {
   "codemirror_mode": {
    "name": "ipython",
    "version": 3
   },
   "file_extension": ".py",
   "mimetype": "text/x-python",
   "name": "python",
   "nbconvert_exporter": "python",
   "pygments_lexer": "ipython3",
   "version": "3.11.5"
  }
 },
 "nbformat": 4,
 "nbformat_minor": 5
}
