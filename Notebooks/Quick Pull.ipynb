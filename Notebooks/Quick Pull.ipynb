{
 "cells": [
  {
   "cell_type": "code",
   "execution_count": 1,
   "id": "81f20d69",
   "metadata": {},
   "outputs": [],
   "source": [
    "import pandas as pd\n",
    "import numpy as np\n",
    "import requests\n",
    "import pickle\n",
    "from collections import deque\n",
    "from functools import reduce\n",
    "pd.set_option('display.max_columns', None)\n",
    "pd.set_option('display.max_rows', None)\n",
    "pd.set_option('display.width', 150)\n",
    "from warnings import simplefilter\n",
    "simplefilter(action=\"ignore\", category=pd.errors.PerformanceWarning)\n",
    "pd.options.mode.chained_assignment = None  # default='warn'\n",
    "import sqlite3 as sq"
   ]
  },
  {
   "cell_type": "code",
   "execution_count": 4,
   "id": "454bcb46",
   "metadata": {},
   "outputs": [],
   "source": [
    "conn = sq.connect('../Outputs/BEA.db')\n",
    "sql_query = pd.read_sql('SELECT * FROM [2017_2022Employment]', conn)\n",
    "data = pd.DataFrame(sql_query)"
   ]
  },
  {
   "cell_type": "code",
   "execution_count": null,
   "id": "cdab5c14",
   "metadata": {},
   "outputs": [],
   "source": [
    "data.head()"
   ]
  },
  {
   "cell_type": "code",
   "execution_count": null,
   "id": "56bdad85",
   "metadata": {},
   "outputs": [],
   "source": [
    "thelist = ['Tennessee', 'Humphreys County, Tennessee', 'Benton, TN', 'Houston County, Tennessee', 'Dickson County, Tennessee']\n",
    "data = data.loc[data['NAME'].isin(thelist)]"
   ]
  },
  {
   "cell_type": "code",
   "execution_count": null,
   "id": "570e36d6",
   "metadata": {},
   "outputs": [],
   "source": [
    "thelist = ['Total', 'By industry, Farm']\n",
    "data = data.loc[data['Description'] == 'Farm employment %']"
   ]
  },
  {
   "cell_type": "code",
   "execution_count": null,
   "id": "74dcb48e",
   "metadata": {},
   "outputs": [],
   "source": [
    "data = data.drop(columns = ['Description', 'Category'])"
   ]
  },
  {
   "cell_type": "code",
   "execution_count": null,
   "id": "bf6342f3",
   "metadata": {},
   "outputs": [],
   "source": [
    "data"
   ]
  },
  {
   "cell_type": "code",
   "execution_count": null,
   "id": "70e5de28",
   "metadata": {},
   "outputs": [],
   "source": [
    "years = ['2017', '2018', '2019', '2020', '2021', '2022']\n",
    "data[years] = data[years].round(2)"
   ]
  },
  {
   "cell_type": "code",
   "execution_count": null,
   "id": "32a64481",
   "metadata": {},
   "outputs": [],
   "source": [
    "data"
   ]
  },
  {
   "cell_type": "code",
   "execution_count": null,
   "id": "179bd685",
   "metadata": {},
   "outputs": [],
   "source": [
    "data.to_csv('../Data/sharefarmemp.csv', index = False)"
   ]
  },
  {
   "cell_type": "code",
   "execution_count": null,
   "id": "9f4817d1",
   "metadata": {},
   "outputs": [],
   "source": []
  }
 ],
 "metadata": {
  "kernelspec": {
   "display_name": "Python 3 (ipykernel)",
   "language": "python",
   "name": "python3"
  },
  "language_info": {
   "codemirror_mode": {
    "name": "ipython",
    "version": 3
   },
   "file_extension": ".py",
   "mimetype": "text/x-python",
   "name": "python",
   "nbconvert_exporter": "python",
   "pygments_lexer": "ipython3",
   "version": "3.11.5"
  }
 },
 "nbformat": 4,
 "nbformat_minor": 5
}
