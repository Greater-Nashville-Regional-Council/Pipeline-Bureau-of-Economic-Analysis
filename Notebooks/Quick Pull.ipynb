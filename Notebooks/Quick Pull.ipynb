{
 "cells": [
  {
   "cell_type": "code",
   "execution_count": 12,
   "id": "81f20d69",
   "metadata": {},
   "outputs": [],
   "source": [
    "import pandas as pd\n",
    "import numpy as np\n",
    "import requests\n",
    "import pickle\n",
    "from collections import deque\n",
    "from functools import reduce\n",
    "pd.set_option('display.max_columns', None)\n",
    "pd.set_option('display.max_rows', None)\n",
    "pd.set_option('display.width', 150)\n",
    "from warnings import simplefilter\n",
    "simplefilter(action=\"ignore\", category=pd.errors.PerformanceWarning)\n",
    "pd.options.mode.chained_assignment = None  # default='warn'\n",
    "import sqlite3 as sq\n",
    "from datetime import date"
   ]
  },
  {
   "cell_type": "markdown",
   "id": "ea7c595f",
   "metadata": {},
   "source": [
    "Quick Pull from CAEMP25 data"
   ]
  },
  {
   "cell_type": "code",
   "execution_count": 13,
   "id": "454bcb46",
   "metadata": {},
   "outputs": [],
   "source": [
    "conn = sq.connect('../Outputs/BEA.db')\n",
    "sql_query = pd.read_sql('SELECT * FROM [2017_2022Employment]', conn)\n",
    "data = pd.DataFrame(sql_query)"
   ]
  },
  {
   "cell_type": "code",
   "execution_count": 14,
   "id": "cdab5c14",
   "metadata": {},
   "outputs": [
    {
     "data": {
      "text/html": [
       "<div>\n",
       "<style scoped>\n",
       "    .dataframe tbody tr th:only-of-type {\n",
       "        vertical-align: middle;\n",
       "    }\n",
       "\n",
       "    .dataframe tbody tr th {\n",
       "        vertical-align: top;\n",
       "    }\n",
       "\n",
       "    .dataframe thead th {\n",
       "        text-align: right;\n",
       "    }\n",
       "</style>\n",
       "<table border=\"1\" class=\"dataframe\">\n",
       "  <thead>\n",
       "    <tr style=\"text-align: right;\">\n",
       "      <th></th>\n",
       "      <th>NAME</th>\n",
       "      <th>2017</th>\n",
       "      <th>2018</th>\n",
       "      <th>2019</th>\n",
       "      <th>2020</th>\n",
       "      <th>2021</th>\n",
       "      <th>2022</th>\n",
       "      <th>Category</th>\n",
       "      <th>Sub Category</th>\n",
       "      <th>Description</th>\n",
       "    </tr>\n",
       "  </thead>\n",
       "  <tbody>\n",
       "    <tr>\n",
       "      <th>0</th>\n",
       "      <td>Tennessee</td>\n",
       "      <td>4033011.0</td>\n",
       "      <td>4120203.0</td>\n",
       "      <td>4169016.0</td>\n",
       "      <td>4121045.0</td>\n",
       "      <td>4301472.0</td>\n",
       "      <td>4506394.0</td>\n",
       "      <td>Total</td>\n",
       "      <td>Total</td>\n",
       "      <td>Total employment (number of jobs)</td>\n",
       "    </tr>\n",
       "    <tr>\n",
       "      <th>1</th>\n",
       "      <td>Tennessee</td>\n",
       "      <td>3083963.0</td>\n",
       "      <td>3133993.0</td>\n",
       "      <td>3195762.0</td>\n",
       "      <td>3074162.0</td>\n",
       "      <td>3170189.0</td>\n",
       "      <td>3305841.0</td>\n",
       "      <td>By Type</td>\n",
       "      <td>By Type, Wage and salary</td>\n",
       "      <td>Wage and salary employment</td>\n",
       "    </tr>\n",
       "    <tr>\n",
       "      <th>2</th>\n",
       "      <td>Tennessee</td>\n",
       "      <td>949048.0</td>\n",
       "      <td>986210.0</td>\n",
       "      <td>973254.0</td>\n",
       "      <td>1046883.0</td>\n",
       "      <td>1131283.0</td>\n",
       "      <td>1200553.0</td>\n",
       "      <td>By Type</td>\n",
       "      <td>By Type, Proprietors</td>\n",
       "      <td>Proprietors employment</td>\n",
       "    </tr>\n",
       "    <tr>\n",
       "      <th>3</th>\n",
       "      <td>Tennessee</td>\n",
       "      <td>64371.0</td>\n",
       "      <td>65112.0</td>\n",
       "      <td>64220.0</td>\n",
       "      <td>63597.0</td>\n",
       "      <td>63648.0</td>\n",
       "      <td>63657.0</td>\n",
       "      <td>By Type</td>\n",
       "      <td>By Type, Proprietors Sub</td>\n",
       "      <td>Farm proprietors employment</td>\n",
       "    </tr>\n",
       "    <tr>\n",
       "      <th>4</th>\n",
       "      <td>Tennessee</td>\n",
       "      <td>884677.0</td>\n",
       "      <td>921098.0</td>\n",
       "      <td>909034.0</td>\n",
       "      <td>983286.0</td>\n",
       "      <td>1067635.0</td>\n",
       "      <td>1136896.0</td>\n",
       "      <td>By Type</td>\n",
       "      <td>By Type, Proprietors Sub</td>\n",
       "      <td>Nonfarm proprietors employment 2</td>\n",
       "    </tr>\n",
       "  </tbody>\n",
       "</table>\n",
       "</div>"
      ],
      "text/plain": [
       "        NAME       2017       2018       2019       2020       2021       2022 Category              Sub Category                        Description\n",
       "0  Tennessee  4033011.0  4120203.0  4169016.0  4121045.0  4301472.0  4506394.0    Total                     Total  Total employment (number of jobs)\n",
       "1  Tennessee  3083963.0  3133993.0  3195762.0  3074162.0  3170189.0  3305841.0  By Type  By Type, Wage and salary         Wage and salary employment\n",
       "2  Tennessee   949048.0   986210.0   973254.0  1046883.0  1131283.0  1200553.0  By Type      By Type, Proprietors             Proprietors employment\n",
       "3  Tennessee    64371.0    65112.0    64220.0    63597.0    63648.0    63657.0  By Type  By Type, Proprietors Sub        Farm proprietors employment\n",
       "4  Tennessee   884677.0   921098.0   909034.0   983286.0  1067635.0  1136896.0  By Type  By Type, Proprietors Sub   Nonfarm proprietors employment 2"
      ]
     },
     "execution_count": 14,
     "metadata": {},
     "output_type": "execute_result"
    }
   ],
   "source": [
    "data.head()"
   ]
  },
  {
   "cell_type": "code",
   "execution_count": 15,
   "id": "56bdad85",
   "metadata": {},
   "outputs": [],
   "source": [
    "thelist = ['Tennessee', 'Humphreys County, Tennessee', 'Benton, TN', 'Houston County, Tennessee', 'Dickson County, Tennessee']\n",
    "data = data.loc[data['NAME'].isin(thelist)]"
   ]
  },
  {
   "cell_type": "code",
   "execution_count": 16,
   "id": "570e36d6",
   "metadata": {},
   "outputs": [],
   "source": [
    "thelist = ['Total', 'By industry, Farm']\n",
    "data = data.loc[data['Description'] == 'Farm employment %']"
   ]
  },
  {
   "cell_type": "code",
   "execution_count": 17,
   "id": "74dcb48e",
   "metadata": {},
   "outputs": [],
   "source": [
    "data = data.drop(columns = ['Description', 'Category'])"
   ]
  },
  {
   "cell_type": "code",
   "execution_count": 18,
   "id": "bf6342f3",
   "metadata": {},
   "outputs": [
    {
     "data": {
      "text/html": [
       "<div>\n",
       "<style scoped>\n",
       "    .dataframe tbody tr th:only-of-type {\n",
       "        vertical-align: middle;\n",
       "    }\n",
       "\n",
       "    .dataframe tbody tr th {\n",
       "        vertical-align: top;\n",
       "    }\n",
       "\n",
       "    .dataframe thead th {\n",
       "        text-align: right;\n",
       "    }\n",
       "</style>\n",
       "<table border=\"1\" class=\"dataframe\">\n",
       "  <thead>\n",
       "    <tr style=\"text-align: right;\">\n",
       "      <th></th>\n",
       "      <th>NAME</th>\n",
       "      <th>2017</th>\n",
       "      <th>2018</th>\n",
       "      <th>2019</th>\n",
       "      <th>2020</th>\n",
       "      <th>2021</th>\n",
       "      <th>2022</th>\n",
       "      <th>Sub Category</th>\n",
       "    </tr>\n",
       "  </thead>\n",
       "  <tbody>\n",
       "    <tr>\n",
       "      <th>3271</th>\n",
       "      <td>Tennessee</td>\n",
       "      <td>1.869025</td>\n",
       "      <td>1.842652</td>\n",
       "      <td>1.792893</td>\n",
       "      <td>1.800102</td>\n",
       "      <td>1.730454</td>\n",
       "      <td>1.668296</td>\n",
       "      <td>By industry, Farm</td>\n",
       "    </tr>\n",
       "    <tr>\n",
       "      <th>3364</th>\n",
       "      <td>Benton, TN</td>\n",
       "      <td>7.458048</td>\n",
       "      <td>7.289944</td>\n",
       "      <td>7.234557</td>\n",
       "      <td>7.146088</td>\n",
       "      <td>7.058998</td>\n",
       "      <td>6.813970</td>\n",
       "      <td>By industry, Farm</td>\n",
       "    </tr>\n",
       "    <tr>\n",
       "      <th>3953</th>\n",
       "      <td>Dickson County, Tennessee</td>\n",
       "      <td>4.401149</td>\n",
       "      <td>4.343064</td>\n",
       "      <td>4.246197</td>\n",
       "      <td>4.232525</td>\n",
       "      <td>4.104287</td>\n",
       "      <td>3.967808</td>\n",
       "      <td>By industry, Farm</td>\n",
       "    </tr>\n",
       "    <tr>\n",
       "      <th>4573</th>\n",
       "      <td>Houston County, Tennessee</td>\n",
       "      <td>12.676056</td>\n",
       "      <td>12.627737</td>\n",
       "      <td>12.653061</td>\n",
       "      <td>12.518519</td>\n",
       "      <td>12.895841</td>\n",
       "      <td>12.836047</td>\n",
       "      <td>By industry, Farm</td>\n",
       "    </tr>\n",
       "    <tr>\n",
       "      <th>4604</th>\n",
       "      <td>Humphreys County, Tennessee</td>\n",
       "      <td>7.145295</td>\n",
       "      <td>7.232346</td>\n",
       "      <td>7.089636</td>\n",
       "      <td>7.064043</td>\n",
       "      <td>7.152714</td>\n",
       "      <td>7.032128</td>\n",
       "      <td>By industry, Farm</td>\n",
       "    </tr>\n",
       "  </tbody>\n",
       "</table>\n",
       "</div>"
      ],
      "text/plain": [
       "                             NAME       2017       2018       2019       2020       2021       2022       Sub Category\n",
       "3271                    Tennessee   1.869025   1.842652   1.792893   1.800102   1.730454   1.668296  By industry, Farm\n",
       "3364                   Benton, TN   7.458048   7.289944   7.234557   7.146088   7.058998   6.813970  By industry, Farm\n",
       "3953    Dickson County, Tennessee   4.401149   4.343064   4.246197   4.232525   4.104287   3.967808  By industry, Farm\n",
       "4573    Houston County, Tennessee  12.676056  12.627737  12.653061  12.518519  12.895841  12.836047  By industry, Farm\n",
       "4604  Humphreys County, Tennessee   7.145295   7.232346   7.089636   7.064043   7.152714   7.032128  By industry, Farm"
      ]
     },
     "execution_count": 18,
     "metadata": {},
     "output_type": "execute_result"
    }
   ],
   "source": [
    "data"
   ]
  },
  {
   "cell_type": "code",
   "execution_count": 19,
   "id": "70e5de28",
   "metadata": {},
   "outputs": [],
   "source": [
    "years = ['2017', '2018', '2019', '2020', '2021', '2022']\n",
    "data[years] = data[years].round(2)"
   ]
  },
  {
   "cell_type": "code",
   "execution_count": 20,
   "id": "b1e69791",
   "metadata": {},
   "outputs": [],
   "source": [
    "#get the current date\n",
    "current_date = date.today()\n",
    "#format the date as a string (e.g., YYYY-MM-DD)\n",
    "date_string = current_date.strftime(\"%Y-%m-%d\")\n",
    "#match regular gnrc formatting\n",
    "date_string = date_string.replace(\"-\", \"\")"
   ]
  },
  {
   "cell_type": "code",
   "execution_count": 22,
   "id": "179bd685",
   "metadata": {},
   "outputs": [],
   "source": [
    "data.to_csv('../Outputs/Quick Pull/farmempfarmersmarket_ecd_{}.csv'.format(date_string), index = False)"
   ]
  },
  {
   "cell_type": "code",
   "execution_count": null,
   "id": "9f4817d1",
   "metadata": {},
   "outputs": [],
   "source": []
  }
 ],
 "metadata": {
  "kernelspec": {
   "display_name": "Python 3 (ipykernel)",
   "language": "python",
   "name": "python3"
  },
  "language_info": {
   "codemirror_mode": {
    "name": "ipython",
    "version": 3
   },
   "file_extension": ".py",
   "mimetype": "text/x-python",
   "name": "python",
   "nbconvert_exporter": "python",
   "pygments_lexer": "ipython3",
   "version": "3.11.5"
  }
 },
 "nbformat": 4,
 "nbformat_minor": 5
}
